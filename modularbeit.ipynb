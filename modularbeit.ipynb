{
 "cells": [
  {
   "cell_type": "markdown",
   "metadata": {},
   "source": [
    "### Entwicklung der App zur Generierung von Collatz–Tupeln"
   ]
  },
  {
   "cell_type": "markdown",
   "metadata": {},
   "source": [
    "Einfache Implementierung des Algorithm in Python:"
   ]
  },
  {
   "cell_type": "code",
   "execution_count": 1,
   "metadata": {
    "tags": []
   },
   "outputs": [],
   "source": [
    "def collatz(a):\n",
    "    numbers_sequence = [a]\n",
    "    while (a != 1):\n",
    "        a = a / 2 if a % 2 == 0 else a * 3 + 1\n",
    "        numbers_sequence.append(int(a))\n",
    "    return(tuple(numbers_sequence))"
   ]
  },
  {
   "cell_type": "markdown",
   "metadata": {},
   "source": [
    "Funktion für Ausgabe der benötigten Information:"
   ]
  },
  {
   "cell_type": "code",
   "execution_count": 2,
   "metadata": {},
   "outputs": [],
   "source": [
    "def print_collatz_info(a):\n",
    "    t = collatz(a)\n",
    "    print(\"Collatz-Tupel: \", t)\n",
    "    print(\"Länge des Tupels: \", len(t) - 1)\n",
    "    print(\"Maximun des Tupels: \", max(t))\n",
    "    print(\"Besteht die Ungleichung M(a1) > a1?\", max(t) > a)"
   ]
  },
  {
   "cell_type": "markdown",
   "metadata": {},
   "source": [
    "Erstelle `ipywidget` für generierung der Collatz-Tupeln:"
   ]
  },
  {
   "cell_type": "code",
   "execution_count": 3,
   "metadata": {
    "tags": []
   },
   "outputs": [
    {
     "name": "stdout",
     "output_type": "stream",
     "text": [
      "Collatz-Tupel:  (50, 25, 76, 38, 19, 58, 29, 88, 44, 22, 11, 34, 17, 52, 26, 13, 40, 20, 10, 5, 16, 8, 4, 2, 1)\n",
      "Länge des Tupels:  24\n",
      "Maximun des Tupels:  88\n",
      "Besteht die Ungleichung M(a1) > a1? True\n"
     ]
    }
   ],
   "source": [
    "from ipywidgets import interactive\n",
    "\n",
    "widget = interactive(print_collatz_info, a=(1, 100))\n",
    "widget"
   ]
  },
  {
   "cell_type": "markdown",
   "metadata": {},
   "source": [
    "### Championsermittlung"
   ]
  },
  {
   "cell_type": "markdown",
   "metadata": {},
   "source": [
    "Funktion zur Ermittlung von allen Collatz-Champions bis einem Wert:"
   ]
  },
  {
   "cell_type": "code",
   "execution_count": 4,
   "metadata": {
    "tags": []
   },
   "outputs": [
    {
     "name": "stdout",
     "output_type": "stream",
     "text": [
      "      0  1  2  3   4   5   6   7    8    9   10   11   12   13   14   15   16  \\\n",
      "N     1  2  3  6   7   9  18  25   27   54   73   97  129  171  231  313  327   \n",
      "L(N)  0  1  7  8  16  19  20  23  111  112  115  118  121  124  127  130  143   \n",
      "\n",
      "       17   18   19    20    21    22    23    24    25     26     27     28  \\\n",
      "N     649  703  871  1161  2223  2463  2919  3711  6171  10971  13255  17647   \n",
      "L(N)  144  170  178   181   182   208   216   237   261    267    275    278   \n",
      "\n",
      "         29     30     31     32     33     34  \n",
      "N     23529  26623  34239  35655  52527  77031  \n",
      "L(N)    281    307    310    323    339    350  \n"
     ]
    }
   ],
   "source": [
    "import pandas\n",
    "\n",
    "def take_collatz_champions_till(a):\n",
    "    champions = [1]\n",
    "    champions_length = [0]\n",
    "    for i in range(1, a + 1):\n",
    "        t = collatz(i)\n",
    "        if (len(t) - 1 > champions_length[-1]):\n",
    "            champions.append(i)\n",
    "            champions_length.append(len(t) - 1)\n",
    "    df = pandas.DataFrame({\"N\": champions,\n",
    "                           \"L(N)\": champions_length})\n",
    "    return df\n",
    "\n",
    "\n",
    "pandas.options.display.max_columns = 10000\n",
    "champions_df = take_collatz_champions_till(100000)\n",
    "print(champions_df.transpose())"
   ]
  },
  {
   "cell_type": "markdown",
   "metadata": {},
   "source": [
    "### Verwandschaftsverhältnisse"
   ]
  },
  {
   "cell_type": "markdown",
   "metadata": {},
   "source": [
    "Bilde die App, die alle Verwandshaftsverhältnisse anzeigt:"
   ]
  },
  {
   "cell_type": "code",
   "execution_count": 5,
   "metadata": {},
   "outputs": [
    {
     "name": "stdout",
     "output_type": "stream",
     "text": [
      "Collatz-Tupel von a: (50, 25, 76, 38, 19, 58, 29, 88, 44, 22, 11, 34, 17, 52, 26, 13, 40, 20, 10, 5, 16, 8, 4, 2, 1)\n",
      "\n",
      "Verwandshaftsverhältnisse von 50:\n",
      "\tmit 66 vom Grad 3\n",
      "\tmit 100 vom Grad 1\n",
      "\tmit 132 vom Grad 4\n",
      "\tmit 133 vom Grad 4\n",
      "\tmit 177 vom Grad 7\n",
      "\tmit 200 vom Grad 2\n",
      "\tmit 264 vom Grad 5\n",
      "\tmit 266 vom Grad 5\n",
      "\tmit 315 vom Grad 13\n",
      "\tmit 354 vom Grad 8\n",
      "\tmit 355 vom Grad 8\n",
      "\tmit 400 vom Grad 3\n",
      "\tmit 473 vom Grad 11\n",
      "\tmit 528 vom Grad 6\n",
      "\tmit 532 vom Grad 6\n",
      "\tmit 533 vom Grad 6\n",
      "\tmit 630 vom Grad 14\n",
      "\tmit 631 vom Grad 14\n",
      "\tmit 708 vom Grad 9\n",
      "\tmit 709 vom Grad 9\n",
      "\tmit 710 vom Grad 9\n",
      "\tmit 747 vom Grad 22\n",
      "\tmit 800 vom Grad 4\n",
      "\tmit 841 vom Grad 17\n",
      "\tmit 945 vom Grad 12\n",
      "\tmit 946 vom Grad 12\n",
      "\tmit 947 vom Grad 12\n"
     ]
    }
   ],
   "source": [
    "def collatz_relationships(n1, n2=1000):\n",
    "    t_n1 = collatz(n1)\n",
    "    print(f\"Collatz-Tupel von a: {t_n1}\")\n",
    "    print(f\"\\nVerwandshaftsverhältnisse von {n1}:\")\n",
    "    for i in range(n1 + 1, n2 + 1):\n",
    "        if i == n1:\n",
    "            continue\n",
    "        t_i = collatz(i)\n",
    "        try:\n",
    "            if t_i.index(t_n1[0]) >= 0:\n",
    "                print(f\"\\tmit {i} vom Grad {t_i.index(t_n1[0])}\") #: {t_i}\")\n",
    "        except ValueError:\n",
    "            pass\n",
    "        \n",
    "\n",
    "widget = interactive(collatz_relationships, n1=(1, 100), n2=(1000,10000,100))\n",
    "widget"
   ]
  }
 ],
 "metadata": {
  "kernelspec": {
   "display_name": "Python 3",
   "language": "python",
   "name": "python3"
  },
  "language_info": {
   "codemirror_mode": {
    "name": "ipython",
    "version": 3
   },
   "file_extension": ".py",
   "mimetype": "text/x-python",
   "name": "python",
   "nbconvert_exporter": "python",
   "pygments_lexer": "ipython3",
   "version": "3.7.8"
  }
 },
 "nbformat": 4,
 "nbformat_minor": 4
}
